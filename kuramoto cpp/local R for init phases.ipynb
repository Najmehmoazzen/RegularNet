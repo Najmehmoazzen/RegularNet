{
 "cells": [
  {
   "cell_type": "code",
   "execution_count": 12,
   "id": "b2f0afc4",
   "metadata": {},
   "outputs": [
    {
     "name": "stdout",
     "output_type": "stream",
     "text": [
      "Sample 0 done\n",
      "Sample 1 done\n",
      "Sample 2 done\n",
      "Sample 3 done\n",
      "Sample 4 done\n",
      "Sample 5 done\n",
      "Sample 6 done\n",
      "Sample 7 done\n",
      "Sample 8 done\n",
      "Sample 9 done\n"
     ]
    }
   ],
   "source": [
    "import numpy as np                                              # Import NumPy for numerical operations\n",
    "\n",
    "# Function to compute local order parameter R for a given sample and its phase data\n",
    "def local_R(sample, data):\n",
    "    N = len(data)                                               # Total number of nodes\n",
    "    k = 2                                                       # Number of neighbors on each side\n",
    "    R = np.zeros(N)                                             # Array to store local order parameter for each node\n",
    "    \n",
    "    for i in range(N):                                          # Loop over each node\n",
    "        neighborhood = [(i + j) % N for j in range(-k, k+1)]    # Define neighborhood with periodic boundary conditions (ring topology)\n",
    "        local_phases = data[neighborhood]                       # Extract phase values of neighbors\n",
    "        local_order = np.abs(np.mean(np.exp(1j * local_phases)))# Compute local order parameter using complex exponentials\n",
    "        R[i] = local_order                                      # Store the result\n",
    "\n",
    "    # Save results to a text file with two columns: node index and local R\n",
    "    np.savetxt(\n",
    "        f\"./Save/local_R/local_R_{sample}.txt\",                 # Output file path\n",
    "        np.column_stack((np.arange(N), R)),                     # Combine node indices and R values\n",
    "        fmt=\"%d\\t%.6f\",                                         # Format: integer + float\n",
    "        header=f\"node\\tlocal_R_{sample}\",                       # Header line\n",
    "        comments=\"\"                                             # Avoid adding '#' before header\n",
    "    )\n",
    "    \n",
    "    return R                                                    # Return the array of local R values\n",
    "\n",
    "\n",
    "# === Run the function for a specific sample ===\n",
    "for sample in range(10):\n",
    "    #sample = 0                                                 # Sample index\n",
    "    data = np.loadtxt(f\"./Save/I=InitialPhases/S_{sample}.txt\") # Load phase data from file\n",
    "    R = local_R(sample, data)                                   # Compute and save local order parameter\n",
    "    print(f\"Sample {sample} done\")                              # Print progress\n"
   ]
  },
  {
   "cell_type": "code",
   "execution_count": null,
   "id": "357cbd54",
   "metadata": {},
   "outputs": [],
   "source": []
  }
 ],
 "metadata": {
  "kernelspec": {
   "display_name": "Python 3",
   "language": "python",
   "name": "python3"
  },
  "language_info": {
   "codemirror_mode": {
    "name": "ipython",
    "version": 3
   },
   "file_extension": ".py",
   "mimetype": "text/x-python",
   "name": "python",
   "nbconvert_exporter": "python",
   "pygments_lexer": "ipython3",
   "version": "3.11.9"
  }
 },
 "nbformat": 4,
 "nbformat_minor": 5
}
