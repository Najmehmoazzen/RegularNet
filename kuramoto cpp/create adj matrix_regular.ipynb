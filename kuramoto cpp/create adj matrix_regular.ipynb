{
 "cells": [
  {
   "cell_type": "code",
   "execution_count": null,
   "id": "c57a3da5",
   "metadata": {},
   "outputs": [],
   "source": [
    "import numpy as np\n",
    "import networkx as nx\n",
    "\n",
    "# Parameters\n",
    "n_nodes = 100  # number of nodes\n",
    "k = 4   # each node connects to k neighbors (total degree = k)\n",
    "\n",
    "# Create a regular ring lattice\n",
    "graph_nx = nx.watts_strogatz_graph(n=n_nodes, k=k, p=0)  # p=0 means no rewiring\n",
    "\n",
    "# Get adjacency matrix\n",
    "adj_matrix = nx.adjacency_matrix(graph_nx).toarray()\n",
    "\n",
    "# Save to a tab-separated text file\n",
    "np.savetxt('adj_matrix.txt', adj_matrix, fmt='%d', delimiter='\\t')\n",
    "\n",
    "print(\"Adjacency matrix saved to 'adj_matrix.txt'.\")"
   ]
  }
 ],
 "metadata": {
  "language_info": {
   "name": "python"
  }
 },
 "nbformat": 4,
 "nbformat_minor": 5
}
